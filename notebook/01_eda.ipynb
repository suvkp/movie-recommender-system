{
 "cells": [
  {
   "cell_type": "code",
   "execution_count": 2,
   "metadata": {},
   "outputs": [],
   "source": [
    "import numpy as np\n",
    "import pandas as pd\n",
    "import matplotlib.pyplot as plt\n",
    "import seaborn as sns"
   ]
  },
  {
   "cell_type": "code",
   "execution_count": 4,
   "metadata": {},
   "outputs": [],
   "source": [
    "import sys\n",
    "sys.path.append(\"../\")"
   ]
  },
  {
   "cell_type": "code",
   "execution_count": 6,
   "metadata": {},
   "outputs": [],
   "source": [
    "credits = pd.read_csv(\"../data/tmdb_5000_credits.csv\")\n",
    "movies = pd.read_csv(\"../data/tmdb_5000_movies.csv\")"
   ]
  },
  {
   "cell_type": "code",
   "execution_count": 10,
   "metadata": {},
   "outputs": [
    {
     "name": "stdout",
     "output_type": "stream",
     "text": [
      "   movie_id                                     title  \\\n",
      "0     19995                                    Avatar   \n",
      "1       285  Pirates of the Caribbean: At World's End   \n",
      "2    206647                                   Spectre   \n",
      "3     49026                     The Dark Knight Rises   \n",
      "4     49529                               John Carter   \n",
      "\n",
      "                                                cast  \\\n",
      "0  [{\"cast_id\": 242, \"character\": \"Jake Sully\", \"...   \n",
      "1  [{\"cast_id\": 4, \"character\": \"Captain Jack Spa...   \n",
      "2  [{\"cast_id\": 1, \"character\": \"James Bond\", \"cr...   \n",
      "3  [{\"cast_id\": 2, \"character\": \"Bruce Wayne / Ba...   \n",
      "4  [{\"cast_id\": 5, \"character\": \"John Carter\", \"c...   \n",
      "\n",
      "                                                crew  \n",
      "0  [{\"credit_id\": \"52fe48009251416c750aca23\", \"de...  \n",
      "1  [{\"credit_id\": \"52fe4232c3a36847f800b579\", \"de...  \n",
      "2  [{\"credit_id\": \"54805967c3a36829b5002c41\", \"de...  \n",
      "3  [{\"credit_id\": \"52fe4781c3a36847f81398c3\", \"de...  \n",
      "4  [{\"credit_id\": \"52fe479ac3a36847f813eaa3\", \"de...  \n",
      "(4803, 4)\n"
     ]
    }
   ],
   "source": [
    "print(credits.head())\n",
    "print(credits.shape)"
   ]
  },
  {
   "cell_type": "code",
   "execution_count": 11,
   "metadata": {},
   "outputs": [
    {
     "name": "stdout",
     "output_type": "stream",
     "text": [
      "      budget                                             genres  \\\n",
      "0  237000000  [{\"id\": 28, \"name\": \"Action\"}, {\"id\": 12, \"nam...   \n",
      "1  300000000  [{\"id\": 12, \"name\": \"Adventure\"}, {\"id\": 14, \"...   \n",
      "2  245000000  [{\"id\": 28, \"name\": \"Action\"}, {\"id\": 12, \"nam...   \n",
      "3  250000000  [{\"id\": 28, \"name\": \"Action\"}, {\"id\": 80, \"nam...   \n",
      "4  260000000  [{\"id\": 28, \"name\": \"Action\"}, {\"id\": 12, \"nam...   \n",
      "\n",
      "                                       homepage      id  \\\n",
      "0                   http://www.avatarmovie.com/   19995   \n",
      "1  http://disney.go.com/disneypictures/pirates/     285   \n",
      "2   http://www.sonypictures.com/movies/spectre/  206647   \n",
      "3            http://www.thedarkknightrises.com/   49026   \n",
      "4          http://movies.disney.com/john-carter   49529   \n",
      "\n",
      "                                            keywords original_language  \\\n",
      "0  [{\"id\": 1463, \"name\": \"culture clash\"}, {\"id\":...                en   \n",
      "1  [{\"id\": 270, \"name\": \"ocean\"}, {\"id\": 726, \"na...                en   \n",
      "2  [{\"id\": 470, \"name\": \"spy\"}, {\"id\": 818, \"name...                en   \n",
      "3  [{\"id\": 849, \"name\": \"dc comics\"}, {\"id\": 853,...                en   \n",
      "4  [{\"id\": 818, \"name\": \"based on novel\"}, {\"id\":...                en   \n",
      "\n",
      "                             original_title  \\\n",
      "0                                    Avatar   \n",
      "1  Pirates of the Caribbean: At World's End   \n",
      "2                                   Spectre   \n",
      "3                     The Dark Knight Rises   \n",
      "4                               John Carter   \n",
      "\n",
      "                                            overview  popularity  \\\n",
      "0  In the 22nd century, a paraplegic Marine is di...  150.437577   \n",
      "1  Captain Barbossa, long believed to be dead, ha...  139.082615   \n",
      "2  A cryptic message from Bond’s past sends him o...  107.376788   \n",
      "3  Following the death of District Attorney Harve...  112.312950   \n",
      "4  John Carter is a war-weary, former military ca...   43.926995   \n",
      "\n",
      "                                production_companies  \\\n",
      "0  [{\"name\": \"Ingenious Film Partners\", \"id\": 289...   \n",
      "1  [{\"name\": \"Walt Disney Pictures\", \"id\": 2}, {\"...   \n",
      "2  [{\"name\": \"Columbia Pictures\", \"id\": 5}, {\"nam...   \n",
      "3  [{\"name\": \"Legendary Pictures\", \"id\": 923}, {\"...   \n",
      "4        [{\"name\": \"Walt Disney Pictures\", \"id\": 2}]   \n",
      "\n",
      "                                production_countries release_date     revenue  \\\n",
      "0  [{\"iso_3166_1\": \"US\", \"name\": \"United States o...   2009-12-10  2787965087   \n",
      "1  [{\"iso_3166_1\": \"US\", \"name\": \"United States o...   2007-05-19   961000000   \n",
      "2  [{\"iso_3166_1\": \"GB\", \"name\": \"United Kingdom\"...   2015-10-26   880674609   \n",
      "3  [{\"iso_3166_1\": \"US\", \"name\": \"United States o...   2012-07-16  1084939099   \n",
      "4  [{\"iso_3166_1\": \"US\", \"name\": \"United States o...   2012-03-07   284139100   \n",
      "\n",
      "   runtime                                   spoken_languages    status  \\\n",
      "0    162.0  [{\"iso_639_1\": \"en\", \"name\": \"English\"}, {\"iso...  Released   \n",
      "1    169.0           [{\"iso_639_1\": \"en\", \"name\": \"English\"}]  Released   \n",
      "2    148.0  [{\"iso_639_1\": \"fr\", \"name\": \"Fran\\u00e7ais\"},...  Released   \n",
      "3    165.0           [{\"iso_639_1\": \"en\", \"name\": \"English\"}]  Released   \n",
      "4    132.0           [{\"iso_639_1\": \"en\", \"name\": \"English\"}]  Released   \n",
      "\n",
      "                                          tagline  \\\n",
      "0                     Enter the World of Pandora.   \n",
      "1  At the end of the world, the adventure begins.   \n",
      "2                           A Plan No One Escapes   \n",
      "3                                 The Legend Ends   \n",
      "4            Lost in our world, found in another.   \n",
      "\n",
      "                                      title  vote_average  vote_count  \n",
      "0                                    Avatar           7.2       11800  \n",
      "1  Pirates of the Caribbean: At World's End           6.9        4500  \n",
      "2                                   Spectre           6.3        4466  \n",
      "3                     The Dark Knight Rises           7.6        9106  \n",
      "4                               John Carter           6.1        2124  \n",
      "(4803, 20)\n"
     ]
    }
   ],
   "source": [
    "print(movies.head())\n",
    "print(movies.shape)"
   ]
  },
  {
   "cell_type": "code",
   "execution_count": 13,
   "metadata": {},
   "outputs": [
    {
     "name": "stdout",
     "output_type": "stream",
     "text": [
      "<class 'pandas.core.frame.DataFrame'>\n",
      "RangeIndex: 4803 entries, 0 to 4802\n",
      "Data columns (total 4 columns):\n",
      " #   Column    Non-Null Count  Dtype \n",
      "---  ------    --------------  ----- \n",
      " 0   movie_id  4803 non-null   int64 \n",
      " 1   title     4803 non-null   object\n",
      " 2   cast      4803 non-null   object\n",
      " 3   crew      4803 non-null   object\n",
      "dtypes: int64(1), object(3)\n",
      "memory usage: 150.2+ KB\n",
      "None\n"
     ]
    }
   ],
   "source": [
    "print(credits.info())"
   ]
  },
  {
   "cell_type": "code",
   "execution_count": 14,
   "metadata": {},
   "outputs": [
    {
     "name": "stdout",
     "output_type": "stream",
     "text": [
      "<class 'pandas.core.frame.DataFrame'>\n",
      "RangeIndex: 4803 entries, 0 to 4802\n",
      "Data columns (total 20 columns):\n",
      " #   Column                Non-Null Count  Dtype  \n",
      "---  ------                --------------  -----  \n",
      " 0   budget                4803 non-null   int64  \n",
      " 1   genres                4803 non-null   object \n",
      " 2   homepage              1712 non-null   object \n",
      " 3   id                    4803 non-null   int64  \n",
      " 4   keywords              4803 non-null   object \n",
      " 5   original_language     4803 non-null   object \n",
      " 6   original_title        4803 non-null   object \n",
      " 7   overview              4800 non-null   object \n",
      " 8   popularity            4803 non-null   float64\n",
      " 9   production_companies  4803 non-null   object \n",
      " 10  production_countries  4803 non-null   object \n",
      " 11  release_date          4802 non-null   object \n",
      " 12  revenue               4803 non-null   int64  \n",
      " 13  runtime               4801 non-null   float64\n",
      " 14  spoken_languages      4803 non-null   object \n",
      " 15  status                4803 non-null   object \n",
      " 16  tagline               3959 non-null   object \n",
      " 17  title                 4803 non-null   object \n",
      " 18  vote_average          4803 non-null   float64\n",
      " 19  vote_count            4803 non-null   int64  \n",
      "dtypes: float64(3), int64(4), object(13)\n",
      "memory usage: 750.6+ KB\n",
      "None\n"
     ]
    }
   ],
   "source": [
    "print(movies.info())"
   ]
  },
  {
   "cell_type": "code",
   "execution_count": 171,
   "metadata": {},
   "outputs": [],
   "source": [
    "# standardize the joining columns\n",
    "movies['title'] = movies['title'].apply(lambda x: str(x).strip().upper())\n",
    "credits['title'] = credits['title'].apply(lambda x: str(x).strip().upper())\n",
    "\n",
    "# merge both the dataset on title\n",
    "movies_comb = movies.merge(credits, on='title', how='left')"
   ]
  },
  {
   "cell_type": "code",
   "execution_count": 172,
   "metadata": {},
   "outputs": [
    {
     "name": "stdout",
     "output_type": "stream",
     "text": [
      "(4809, 23)\n",
      "<class 'pandas.core.frame.DataFrame'>\n",
      "RangeIndex: 4809 entries, 0 to 4808\n",
      "Data columns (total 23 columns):\n",
      " #   Column                Non-Null Count  Dtype  \n",
      "---  ------                --------------  -----  \n",
      " 0   budget                4809 non-null   int64  \n",
      " 1   genres                4809 non-null   object \n",
      " 2   homepage              1713 non-null   object \n",
      " 3   id                    4809 non-null   int64  \n",
      " 4   keywords              4809 non-null   object \n",
      " 5   original_language     4809 non-null   object \n",
      " 6   original_title        4809 non-null   object \n",
      " 7   overview              4806 non-null   object \n",
      " 8   popularity            4809 non-null   float64\n",
      " 9   production_companies  4809 non-null   object \n",
      " 10  production_countries  4809 non-null   object \n",
      " 11  release_date          4808 non-null   object \n",
      " 12  revenue               4809 non-null   int64  \n",
      " 13  runtime               4807 non-null   float64\n",
      " 14  spoken_languages      4809 non-null   object \n",
      " 15  status                4809 non-null   object \n",
      " 16  tagline               3965 non-null   object \n",
      " 17  title                 4809 non-null   object \n",
      " 18  vote_average          4809 non-null   float64\n",
      " 19  vote_count            4809 non-null   int64  \n",
      " 20  movie_id              4809 non-null   int64  \n",
      " 21  cast                  4809 non-null   object \n",
      " 22  crew                  4809 non-null   object \n",
      "dtypes: float64(3), int64(5), object(15)\n",
      "memory usage: 864.2+ KB\n",
      "None\n"
     ]
    }
   ],
   "source": [
    "print(movies_comb.shape)\n",
    "print(movies_comb.info())"
   ]
  },
  {
   "cell_type": "markdown",
   "metadata": {},
   "source": [
    "## There are movies with same title but released in different years (they are probably remakes)"
   ]
  },
  {
   "cell_type": "code",
   "execution_count": 173,
   "metadata": {},
   "outputs": [
    {
     "name": "stdout",
     "output_type": "stream",
     "text": [
      "                title  crew\n",
      "435            BATMAN     4\n",
      "2567  OUT OF THE BLUE     4\n",
      "3794         THE HOST     4\n",
      "        id  movie_id   title original_title release_date\n",
      "1360   268       268  BATMAN         Batman   1989-06-23\n",
      "1361   268      2661  BATMAN         Batman   1989-06-23\n",
      "4272  2661       268  BATMAN         Batman   1966-07-30\n",
      "4273  2661      2661  BATMAN         Batman   1966-07-30\n",
      "         id  movie_id            title   original_title release_date\n",
      "3650  39269     39269  OUT OF THE BLUE  Out of the Blue   1980-05-01\n",
      "3651  39269     10844  OUT OF THE BLUE  Out of the Blue   1980-05-01\n",
      "3697  10844     39269  OUT OF THE BLUE  Out of the Blue   2006-10-12\n",
      "3698  10844     10844  OUT OF THE BLUE  Out of the Blue   2006-10-12\n",
      "         id  movie_id     title original_title release_date\n",
      "972   72710     72710  THE HOST       The Host   2013-03-22\n",
      "973   72710      1255  THE HOST       The Host   2013-03-22\n",
      "2879   1255     72710  THE HOST             괴물   2006-07-27\n",
      "2880   1255      1255  THE HOST             괴물   2006-07-27\n"
     ]
    }
   ],
   "source": [
    "x = movies_comb.groupby('title')['crew'].count().reset_index()\n",
    "print(x.query('crew > 1'))\n",
    "print(movies_comb.query('title == \"BATMAN\"')[['id', 'movie_id', 'title', 'original_title', 'release_date']])\n",
    "print(movies_comb.query('title == \"OUT OF THE BLUE\"')[['id', 'movie_id', 'title', 'original_title', 'release_date']])\n",
    "print(movies_comb.query('title == \"THE HOST\"')[['id', 'movie_id', 'title', 'original_title', 'release_date']])"
   ]
  },
  {
   "cell_type": "markdown",
   "metadata": {},
   "source": [
    "## Feature ideas\n",
    "We are building a content based filtering recommender system i.e., recommendations based on user's past interest\n",
    "\n",
    "Based on what an user can search a movie?\n",
    "* title - title, original_title\n",
    "* genre - genres\n",
    "* cast - cast\n",
    "* crew - crew\n",
    "\n",
    "Based on user's past movies?\n",
    "* content of the movie - keywords, overview, tagline\n",
    "* language (user preferes few specific languages) - spoken_languages\n",
    "* genre (user preferes few specific genres) - genres\n",
    "* cast (user prefers few specific casts) - cast\n",
    "* crew (user preferes christopher nolan movies) - crew\n",
    "* runtime (may be user watches only shorter movies) - runtime\n",
    "* popularity - vote_count, vote_average, popularity (may be user likes only popular movies)\n",
    "* production companies (Marvels, DC, etc)\n",
    "+ production countries (may/may not)\n",
    "* Release year - release date (may be user watches most recent movies)\n",
    "\n",
    "Useless features:\n",
    "* revenue\n",
    "* budget\n",
    "* homepage\n",
    "* status (Most of the movies are released anyway)\n",
    "* original_language (Most of the languages are english (93%))"
   ]
  },
  {
   "cell_type": "markdown",
   "metadata": {},
   "source": [
    "## Feature engineering to-do's\n",
    "* extract release year from release date column\n",
    "* Remove revenue, budget, homepage, status, original_language\n",
    "* Explore information in dictionary columns - genres, keywords, production_companies, production_countries, spokern_languages, cast, crew\n",
    "* Text preprocessing:\n",
    "    * tokenization\n",
    "    * remove space between words in a token (to remove confusion between similar names)\n",
    "    * removing Punctuation & Special Characters\n",
    "    * remove stop words\n",
    "    * convert everything to lower case\n",
    "    * concatenate all the information about the movie into one column that will be converted to embeddings\n",
    "    * Note: there are repetitions in cast, character and crew names"
   ]
  },
  {
   "cell_type": "code",
   "execution_count": 174,
   "metadata": {},
   "outputs": [
    {
     "name": "stdout",
     "output_type": "stream",
     "text": [
      "(4809, 18)\n"
     ]
    }
   ],
   "source": [
    "# extract release year and drop columns\n",
    "dates = pd.to_datetime(movies_comb['release_date'])\n",
    "movies_comb['release_year'] = dates.dt.year\n",
    "movies_comb.drop(['revenue', 'budget', 'homepage', 'status', 'original_language', 'release_date'], axis=1, inplace=True)\n",
    "print(movies_comb.shape)"
   ]
  },
  {
   "cell_type": "code",
   "execution_count": 175,
   "metadata": {},
   "outputs": [
    {
     "name": "stdout",
     "output_type": "stream",
     "text": [
      "['Sam Worthington', 'Zoe Saldana', 'Sigourney Weaver', 'Stephen Lang', 'Michelle Rodriguez', 'Giovanni Ribisi', 'Joel David Moore', 'CCH Pounder', 'Wes Studi', 'Laz Alonso', 'Dileep Rao', 'Matt Gerald', 'Sean Anthony Moran', 'Jason Whyte', 'Scott Lawrence', 'Kelly Kilgour', 'James Patrick Pitt', 'Sean Patrick Murphy', 'Peter Dillon', 'Kevin Dorman', 'Kelson Henderson', 'David Van Horn', 'Jacob Tomuri', 'Michael Blain-Rozgay', 'Jon Curry', 'Luke Hawker', 'Woody Schultz', 'Peter Mensah', 'Sonia Yee', 'Jahnel Curfman', 'Ilram Choi', 'Kyla Warren', 'Lisa Roumain', 'Debra Wilson', 'Chris Mala', 'Taylor Kibby', 'Jodie Landau', 'Julie Lamm', 'Cullen B. Madden', 'Joseph Brady Madden', 'Frankie Torres', 'Austin Wilson', 'Sara Wilson', 'Tamica Washington-Miller', 'Lucy Briant', 'Nathan Meister', 'Gerry Blair', 'Matthew Chamberlain', 'Paul Yates', 'Wray Wilson', 'James Gaylyn', 'Melvin Leno Clark III', 'Carvon Futrell', 'Brandon Jelkes', 'Micah Moch', 'Hanniyah Muhammad', 'Christopher Nolen', 'Christa Oliver', 'April Marie Thomas', 'Bravita A. Threatt', 'Colin Bleasdale', 'Mike Bodnar', 'Matt Clayton', 'Nicole Dionne', 'Jamie Harrison', 'Allan Henry', 'Anthony Ingruber', 'Ashley Jeffery', 'Dean Knowsley', 'Joseph Mika-Hunt', 'Terry Notary', 'Kai Pantano', 'Logan Pithyou', 'Stuart Pollock', 'Raja', 'Gareth Ruck', 'Rhian Sheehan', 'T. J. Storm', 'Jodie Taylor', 'Alicia Vela-Bailey', 'Richard Whiteside', 'Nikie Zambo', 'Julene Renee']\n"
     ]
    }
   ],
   "source": [
    "# function to extract elements of json file\n",
    "def get_elements(x, dic_element_name='name'):\n",
    "    \"\"\"\n",
    "    x is a list dictionary   \n",
    "    \"\"\"\n",
    "    x = eval(x)\n",
    "    keywords = []\n",
    "    for dic in x:\n",
    "        assert(isinstance(dic, dict))\n",
    "        assert(dic_element_name in dic.keys())\n",
    "        keywords.append(dic[dic_element_name])\n",
    "    return keywords\n",
    "\n",
    "print(get_elements(movies_comb['cast'][0], dic_element_name='name'))"
   ]
  },
  {
   "cell_type": "code",
   "execution_count": 176,
   "metadata": {},
   "outputs": [],
   "source": [
    "# extract information from the columns\n",
    "movies_comb['keywords2'] = movies_comb['keywords'].apply(lambda x: get_elements(x, 'name'))\n",
    "movies_comb['production_companies2'] = movies_comb['production_companies'].apply(lambda x: get_elements(x, 'name'))\n",
    "movies_comb['production_countries2'] = movies_comb['production_countries'].apply(lambda x: get_elements(x, 'name'))\n",
    "movies_comb['spoken_languages2'] = movies_comb['spoken_languages'].apply(lambda x: get_elements(x, 'iso_639_1'))\n",
    "movies_comb['cast2'] = movies_comb['cast'].apply(lambda x: get_elements(x, 'name'))\n",
    "movies_comb['character2'] = movies_comb['cast'].apply(lambda x: get_elements(x, 'character'))\n",
    "movies_comb['crew2'] = movies_comb['crew'].apply(lambda x: get_elements(x, 'name'))\n",
    "movies_comb['genres2'] = movies_comb['genres'].apply(lambda x: get_elements(x, 'name'))"
   ]
  },
  {
   "cell_type": "code",
   "execution_count": 177,
   "metadata": {},
   "outputs": [],
   "source": [
    "# drop unncessary columns\n",
    "movies_comb.drop(['keywords', 'production_companies', 'production_countries', 'spoken_languages', \n",
    "                  'cast', 'crew', 'genres'], axis=1, inplace=True)"
   ]
  },
  {
   "cell_type": "markdown",
   "metadata": {},
   "source": [
    "### Text preprocessing"
   ]
  },
  {
   "cell_type": "code",
   "execution_count": 193,
   "metadata": {},
   "outputs": [],
   "source": [
    "import nltk\n",
    "from nltk.corpus import stopwords\n",
    "from nltk.stem import WordNetLemmatizer\n",
    "import re"
   ]
  },
  {
   "cell_type": "code",
   "execution_count": null,
   "metadata": {},
   "outputs": [],
   "source": [
    "# tokenize overview & tagline\n",
    "movies_comb['overview'] = movies_comb['overview'].apply(lambda x: str(x).split())\n",
    "movies_comb['tagline'] = movies_comb['tagline'].apply(lambda x: str(x).split())\n",
    "movies_comb['title'] = movies_comb['title'].apply(lambda x: str(x).split())\n",
    "\n",
    "# remove space between words in a token\n",
    "def inlist_removespace(x):\n",
    "    return [str(t).replace(\" \", \"\") for t in x]\n",
    "\n",
    "movies_comb['keywords2'] = movies_comb['keywords2'].apply(lambda x: inlist_removespace(x))\n",
    "movies_comb['production_companies2'] = movies_comb['production_companies2'].apply(lambda x: inlist_removespace(x))\n",
    "movies_comb['production_countries2'] = movies_comb['production_countries2'].apply(lambda x: inlist_removespace(x))\n",
    "movies_comb['spoken_languages2'] = movies_comb['spoken_languages2'].apply(lambda x: inlist_removespace(x))\n",
    "movies_comb['cast2'] = movies_comb['cast2'].apply(lambda x: inlist_removespace(x))\n",
    "movies_comb['crew2'] = movies_comb['crew2'].apply(lambda x: inlist_removespace(x))\n",
    "movies_comb['character2'] = movies_comb['character2'].apply(lambda x: inlist_removespace(x))\n",
    "movies_comb['genres2'] = movies_comb['genres2'].apply(lambda x: inlist_removespace(x))\n",
    "\n",
    "# concatenate overview, keywords2, production_companies2, production_countries2, spoken_languages2, cast2, crew2, character2, genres2, tagline\n",
    "movies_comb['combined_tag'] = movies_comb['title'] + movies_comb['overview'] + movies_comb['keywords2'] + movies_comb['production_companies2'] + movies_comb['production_countries2'] + \\\n",
    "                                movies_comb['spoken_languages2'] + movies_comb['cast2'] + movies_comb['crew2'] + movies_comb['character2'] + movies_comb['genres2'] + movies_comb['tagline']\n",
    "\n",
    "# strip and lower everything\n",
    "def inlist_lower(x):\n",
    "    return [str(t).strip().lower() for t in x]\n",
    "\n",
    "movies_comb['combined_tag'] = movies_comb['combined_tag'].apply(lambda x: inlist_lower(x))\n",
    "\n",
    "# get rid of punctuation marks\n",
    "def remove_punctuation_marks(x):\n",
    "    return [re.sub(r'[^\\w\\s]', '', t) for t in x]\n",
    "\n",
    "movies_comb['combined_tag'] = movies_comb['combined_tag'].apply(lambda x: remove_punctuation_marks(x))\n",
    "\n",
    "# remove stop words\n",
    "stop_words = set(stopwords.words('english'))\n",
    "def remove_stop_words(x):\n",
    "    return [t for t in x if t not in stop_words]\n",
    "\n",
    "movies_comb['combined_tag'] = movies_comb['combined_tag'].apply(lambda x: remove_stop_words(x))"
   ]
  },
  {
   "cell_type": "code",
   "execution_count": 180,
   "metadata": {},
   "outputs": [],
   "source": [
    "# remove unnecessary columns\n",
    "movies_comb.drop(['overview', 'keywords2', 'production_companies2', 'production_countries2', 'spoken_languages2', 'cast2', 'crew2', 'character2', \n",
    "                  'genres2', 'tagline', 'title', 'original_title'], axis=1, inplace=True)"
   ]
  },
  {
   "cell_type": "code",
   "execution_count": 148,
   "metadata": {},
   "outputs": [
    {
     "name": "stdout",
     "output_type": "stream",
     "text": [
      "4803\n",
      "4803\n"
     ]
    }
   ],
   "source": [
    "print(movies_comb['id'].nunique())\n",
    "print(movies_comb['movie_id'].nunique())"
   ]
  },
  {
   "cell_type": "code",
   "execution_count": null,
   "metadata": {},
   "outputs": [],
   "source": [
    "# missing imputation\n",
    "# movies.query('id == 380097')\n",
    "movies_comb['release_year'] = movies_comb['release_year'].fillna(2015)\n",
    "\n",
    "mean_runtime = movies_comb['runtime'].mean()\n",
    "movies_comb['runtime'] = movies_comb['runtime'].fillna(mean_runtime)"
   ]
  },
  {
   "cell_type": "code",
   "execution_count": null,
   "metadata": {},
   "outputs": [],
   "source": [
    "# convert to text from tokens\n",
    "def join_tokens(x):\n",
    "    return ' '.join(t for t in x)\n",
    "\n",
    "movies_comb['text'] = movies_comb['combined_tag'].apply(join_tokens)"
   ]
  },
  {
   "cell_type": "code",
   "execution_count": 203,
   "metadata": {},
   "outputs": [
    {
     "name": "stdout",
     "output_type": "stream",
     "text": [
      "(4809, 9)\n"
     ]
    },
    {
     "data": {
      "text/html": [
       "<div>\n",
       "<style scoped>\n",
       "    .dataframe tbody tr th:only-of-type {\n",
       "        vertical-align: middle;\n",
       "    }\n",
       "\n",
       "    .dataframe tbody tr th {\n",
       "        vertical-align: top;\n",
       "    }\n",
       "\n",
       "    .dataframe thead th {\n",
       "        text-align: right;\n",
       "    }\n",
       "</style>\n",
       "<table border=\"1\" class=\"dataframe\">\n",
       "  <thead>\n",
       "    <tr style=\"text-align: right;\">\n",
       "      <th></th>\n",
       "      <th>id</th>\n",
       "      <th>popularity</th>\n",
       "      <th>runtime</th>\n",
       "      <th>vote_average</th>\n",
       "      <th>vote_count</th>\n",
       "      <th>movie_id</th>\n",
       "      <th>release_year</th>\n",
       "      <th>combined_tag</th>\n",
       "      <th>text</th>\n",
       "    </tr>\n",
       "  </thead>\n",
       "  <tbody>\n",
       "    <tr>\n",
       "      <th>0</th>\n",
       "      <td>19995</td>\n",
       "      <td>150.437577</td>\n",
       "      <td>162.0</td>\n",
       "      <td>7.2</td>\n",
       "      <td>11800</td>\n",
       "      <td>19995</td>\n",
       "      <td>2009.0</td>\n",
       "      <td>[avatar, 22nd, century, paraplegic, marine, di...</td>\n",
       "      <td>avatar 22nd century paraplegic marine dispatch...</td>\n",
       "    </tr>\n",
       "    <tr>\n",
       "      <th>1</th>\n",
       "      <td>285</td>\n",
       "      <td>139.082615</td>\n",
       "      <td>169.0</td>\n",
       "      <td>6.9</td>\n",
       "      <td>4500</td>\n",
       "      <td>285</td>\n",
       "      <td>2007.0</td>\n",
       "      <td>[pirate, caribbean, world, end, captain, barbo...</td>\n",
       "      <td>pirate caribbean world end captain barbossa lo...</td>\n",
       "    </tr>\n",
       "    <tr>\n",
       "      <th>2</th>\n",
       "      <td>206647</td>\n",
       "      <td>107.376788</td>\n",
       "      <td>148.0</td>\n",
       "      <td>6.3</td>\n",
       "      <td>4466</td>\n",
       "      <td>206647</td>\n",
       "      <td>2015.0</td>\n",
       "      <td>[spectre, cryptic, message, bond, past, sends,...</td>\n",
       "      <td>spectre cryptic message bond past sends trail ...</td>\n",
       "    </tr>\n",
       "    <tr>\n",
       "      <th>3</th>\n",
       "      <td>49026</td>\n",
       "      <td>112.312950</td>\n",
       "      <td>165.0</td>\n",
       "      <td>7.6</td>\n",
       "      <td>9106</td>\n",
       "      <td>49026</td>\n",
       "      <td>2012.0</td>\n",
       "      <td>[dark, knight, rise, following, death, distric...</td>\n",
       "      <td>dark knight rise following death district atto...</td>\n",
       "    </tr>\n",
       "    <tr>\n",
       "      <th>4</th>\n",
       "      <td>49529</td>\n",
       "      <td>43.926995</td>\n",
       "      <td>132.0</td>\n",
       "      <td>6.1</td>\n",
       "      <td>2124</td>\n",
       "      <td>49529</td>\n",
       "      <td>2012.0</td>\n",
       "      <td>[john, carter, john, carter, warweary, former,...</td>\n",
       "      <td>john carter john carter warweary former milita...</td>\n",
       "    </tr>\n",
       "    <tr>\n",
       "      <th>5</th>\n",
       "      <td>559</td>\n",
       "      <td>115.699814</td>\n",
       "      <td>139.0</td>\n",
       "      <td>5.9</td>\n",
       "      <td>3576</td>\n",
       "      <td>559</td>\n",
       "      <td>2007.0</td>\n",
       "      <td>[spiderman, 3, seemingly, invincible, spiderma...</td>\n",
       "      <td>spiderman 3 seemingly invincible spiderman go ...</td>\n",
       "    </tr>\n",
       "    <tr>\n",
       "      <th>6</th>\n",
       "      <td>38757</td>\n",
       "      <td>48.681969</td>\n",
       "      <td>100.0</td>\n",
       "      <td>7.4</td>\n",
       "      <td>3330</td>\n",
       "      <td>38757</td>\n",
       "      <td>2010.0</td>\n",
       "      <td>[tangled, kingdom, wantedand, charmingbandit, ...</td>\n",
       "      <td>tangled kingdom wantedand charmingbandit flynn...</td>\n",
       "    </tr>\n",
       "    <tr>\n",
       "      <th>7</th>\n",
       "      <td>99861</td>\n",
       "      <td>134.279229</td>\n",
       "      <td>141.0</td>\n",
       "      <td>7.3</td>\n",
       "      <td>6767</td>\n",
       "      <td>99861</td>\n",
       "      <td>2015.0</td>\n",
       "      <td>[avenger, age, ultron, tony, stark, try, jumps...</td>\n",
       "      <td>avenger age ultron tony stark try jumpstart do...</td>\n",
       "    </tr>\n",
       "    <tr>\n",
       "      <th>8</th>\n",
       "      <td>767</td>\n",
       "      <td>98.885637</td>\n",
       "      <td>153.0</td>\n",
       "      <td>7.4</td>\n",
       "      <td>5293</td>\n",
       "      <td>767</td>\n",
       "      <td>2009.0</td>\n",
       "      <td>[harry, potter, halfblood, prince, harry, begi...</td>\n",
       "      <td>harry potter halfblood prince harry begin sixt...</td>\n",
       "    </tr>\n",
       "    <tr>\n",
       "      <th>9</th>\n",
       "      <td>209112</td>\n",
       "      <td>155.790452</td>\n",
       "      <td>151.0</td>\n",
       "      <td>5.7</td>\n",
       "      <td>7004</td>\n",
       "      <td>209112</td>\n",
       "      <td>2016.0</td>\n",
       "      <td>[batman, v, superman, dawn, justice, fearing, ...</td>\n",
       "      <td>batman v superman dawn justice fearing action ...</td>\n",
       "    </tr>\n",
       "  </tbody>\n",
       "</table>\n",
       "</div>"
      ],
      "text/plain": [
       "       id  popularity  runtime  vote_average  vote_count  movie_id  \\\n",
       "0   19995  150.437577    162.0           7.2       11800     19995   \n",
       "1     285  139.082615    169.0           6.9        4500       285   \n",
       "2  206647  107.376788    148.0           6.3        4466    206647   \n",
       "3   49026  112.312950    165.0           7.6        9106     49026   \n",
       "4   49529   43.926995    132.0           6.1        2124     49529   \n",
       "5     559  115.699814    139.0           5.9        3576       559   \n",
       "6   38757   48.681969    100.0           7.4        3330     38757   \n",
       "7   99861  134.279229    141.0           7.3        6767     99861   \n",
       "8     767   98.885637    153.0           7.4        5293       767   \n",
       "9  209112  155.790452    151.0           5.7        7004    209112   \n",
       "\n",
       "   release_year                                       combined_tag  \\\n",
       "0        2009.0  [avatar, 22nd, century, paraplegic, marine, di...   \n",
       "1        2007.0  [pirate, caribbean, world, end, captain, barbo...   \n",
       "2        2015.0  [spectre, cryptic, message, bond, past, sends,...   \n",
       "3        2012.0  [dark, knight, rise, following, death, distric...   \n",
       "4        2012.0  [john, carter, john, carter, warweary, former,...   \n",
       "5        2007.0  [spiderman, 3, seemingly, invincible, spiderma...   \n",
       "6        2010.0  [tangled, kingdom, wantedand, charmingbandit, ...   \n",
       "7        2015.0  [avenger, age, ultron, tony, stark, try, jumps...   \n",
       "8        2009.0  [harry, potter, halfblood, prince, harry, begi...   \n",
       "9        2016.0  [batman, v, superman, dawn, justice, fearing, ...   \n",
       "\n",
       "                                                text  \n",
       "0  avatar 22nd century paraplegic marine dispatch...  \n",
       "1  pirate caribbean world end captain barbossa lo...  \n",
       "2  spectre cryptic message bond past sends trail ...  \n",
       "3  dark knight rise following death district atto...  \n",
       "4  john carter john carter warweary former milita...  \n",
       "5  spiderman 3 seemingly invincible spiderman go ...  \n",
       "6  tangled kingdom wantedand charmingbandit flynn...  \n",
       "7  avenger age ultron tony stark try jumpstart do...  \n",
       "8  harry potter halfblood prince harry begin sixt...  \n",
       "9  batman v superman dawn justice fearing action ...  "
      ]
     },
     "execution_count": 203,
     "metadata": {},
     "output_type": "execute_result"
    }
   ],
   "source": [
    "print(movies_comb.shape)\n",
    "movies_comb.head(10)"
   ]
  },
  {
   "cell_type": "code",
   "execution_count": null,
   "metadata": {},
   "outputs": [],
   "source": []
  }
 ],
 "metadata": {
  "kernelspec": {
   "display_name": ".venv",
   "language": "python",
   "name": "python3"
  },
  "language_info": {
   "codemirror_mode": {
    "name": "ipython",
    "version": 3
   },
   "file_extension": ".py",
   "mimetype": "text/x-python",
   "name": "python",
   "nbconvert_exporter": "python",
   "pygments_lexer": "ipython3",
   "version": "3.10.1"
  }
 },
 "nbformat": 4,
 "nbformat_minor": 2
}
