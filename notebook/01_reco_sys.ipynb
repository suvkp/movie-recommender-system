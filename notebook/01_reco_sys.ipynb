{
 "cells": [
  {
   "cell_type": "code",
   "execution_count": 4,
   "metadata": {},
   "outputs": [],
   "source": [
    "import numpy as np\n",
    "import pandas as pd\n",
    "import matplotlib.pyplot as plt\n",
    "import seaborn as sns"
   ]
  },
  {
   "cell_type": "code",
   "execution_count": 5,
   "metadata": {},
   "outputs": [],
   "source": [
    "import sys\n",
    "sys.path.append(\"../\")"
   ]
  },
  {
   "cell_type": "code",
   "execution_count": 6,
   "metadata": {},
   "outputs": [],
   "source": [
    "credits = pd.read_csv(\"../data/tmdb_5000_credits.csv\")\n",
    "movies = pd.read_csv(\"../data/tmdb_5000_movies.csv\")"
   ]
  },
  {
   "cell_type": "code",
   "execution_count": 71,
   "metadata": {},
   "outputs": [],
   "source": [
    "# standardize the joining columns\n",
    "movies['title'] = movies['title'].apply(lambda x: str(x).strip().lower())\n",
    "credits['title'] = credits['title'].apply(lambda x: str(x).strip().lower())\n",
    "\n",
    "# merge both the dataset on title\n",
    "movies_comb = movies.merge(credits, on='title', how='left')"
   ]
  },
  {
   "cell_type": "markdown",
   "metadata": {},
   "source": [
    "## There are movies with same title but released in different years (they are probably remakes)"
   ]
  },
  {
   "cell_type": "code",
   "execution_count": 72,
   "metadata": {},
   "outputs": [
    {
     "name": "stdout",
     "output_type": "stream",
     "text": [
      "                title  crew\n",
      "437            batman     4\n",
      "2569  out of the blue     4\n",
      "3796         the host     4\n",
      "        id  movie_id   title original_title release_date\n",
      "1360   268       268  batman         Batman   1989-06-23\n",
      "1361   268      2661  batman         Batman   1989-06-23\n",
      "4272  2661       268  batman         Batman   1966-07-30\n",
      "4273  2661      2661  batman         Batman   1966-07-30\n",
      "         id  movie_id            title   original_title release_date\n",
      "3650  39269     39269  out of the blue  Out of the Blue   1980-05-01\n",
      "3651  39269     10844  out of the blue  Out of the Blue   1980-05-01\n",
      "3697  10844     39269  out of the blue  Out of the Blue   2006-10-12\n",
      "3698  10844     10844  out of the blue  Out of the Blue   2006-10-12\n",
      "         id  movie_id     title original_title release_date\n",
      "972   72710     72710  the host       The Host   2013-03-22\n",
      "973   72710      1255  the host       The Host   2013-03-22\n",
      "2879   1255     72710  the host             괴물   2006-07-27\n",
      "2880   1255      1255  the host             괴물   2006-07-27\n"
     ]
    }
   ],
   "source": [
    "x = movies_comb.groupby('title')['crew'].count().reset_index()\n",
    "print(x.query('crew > 1'))\n",
    "print(movies_comb.query('title == \"batman\"')[['id', 'movie_id', 'title', 'original_title', 'release_date']])\n",
    "print(movies_comb.query('title == \"out of the blue\"')[['id', 'movie_id', 'title', 'original_title', 'release_date']])\n",
    "print(movies_comb.query('title == \"the host\"')[['id', 'movie_id', 'title', 'original_title', 'release_date']])"
   ]
  },
  {
   "cell_type": "markdown",
   "metadata": {},
   "source": [
    "## Feature ideas\n",
    "We are building a content based filtering recommender system i.e., recommendations based on user's past interest\n",
    "\n",
    "Based on what an user can search a movie?\n",
    "* title - title, original_title\n",
    "* genre - genres\n",
    "* cast - cast\n",
    "* crew - crew\n",
    "\n",
    "Based on user's past movies?\n",
    "* content of the movie - keywords, overview, tagline\n",
    "* language (user preferes few specific languages) - spoken_languages\n",
    "* genre (user preferes few specific genres) - genres\n",
    "* cast (user prefers few specific casts) - cast\n",
    "* crew (user preferes christopher nolan movies) - crew\n",
    "* runtime (may be user watches only shorter movies) - runtime\n",
    "* popularity - vote_count, vote_average, popularity (may be user likes only popular movies)\n",
    "* production companies (Marvels, DC, etc)\n",
    "+ production countries (may/may not)\n",
    "* Release year - release date (may be user watches most recent movies)\n",
    "\n",
    "Useless features:\n",
    "* revenue\n",
    "* budget\n",
    "* homepage\n",
    "* status (Most of the movies are released anyway)\n",
    "* original_language (Most of the languages are english (93%))"
   ]
  },
  {
   "cell_type": "markdown",
   "metadata": {},
   "source": [
    "## Feature engineering to-do's\n",
    "* extract release year from release date column\n",
    "* Remove revenue, budget, homepage, status, original_language\n",
    "* Explore information in dictionary columns - genres, keywords, production_companies, production_countries, spokern_languages, cast, crew\n",
    "* Text preprocessing:\n",
    "    * tokenization\n",
    "    * remove space between words in a token (to remove confusion between similar names)\n",
    "    * removing Punctuation & Special Characters\n",
    "    * remove stop words\n",
    "    * convert everything to lower case\n",
    "    * concatenate all the information about the movie into one column that will be converted to embeddings\n",
    "    * Note: there are repetitions in cast, character and crew names"
   ]
  },
  {
   "cell_type": "code",
   "execution_count": 73,
   "metadata": {},
   "outputs": [
    {
     "name": "stdout",
     "output_type": "stream",
     "text": [
      "(4809, 18)\n"
     ]
    }
   ],
   "source": [
    "# extract release year and drop columns\n",
    "dates = pd.to_datetime(movies_comb['release_date'])\n",
    "movies_comb['release_year'] = dates.dt.year\n",
    "movies_comb.drop(['revenue', 'budget', 'homepage', 'status', 'original_language', 'release_date'], axis=1, inplace=True)\n",
    "print(movies_comb.shape)"
   ]
  },
  {
   "cell_type": "code",
   "execution_count": 74,
   "metadata": {},
   "outputs": [],
   "source": [
    "# function to extract elements of json file\n",
    "def get_elements(x, dic_element_name='name'):\n",
    "    \"\"\"\n",
    "    x is a list dictionary   \n",
    "    \"\"\"\n",
    "    x = eval(x)\n",
    "    keywords = []\n",
    "    for dic in x:\n",
    "        assert(isinstance(dic, dict))\n",
    "        assert(dic_element_name in dic.keys())\n",
    "        keywords.append(dic[dic_element_name])\n",
    "    return keywords\n",
    "\n",
    "# extract information from the columns\n",
    "movies_comb['keywords2'] = movies_comb['keywords'].apply(lambda x: get_elements(x, 'name'))\n",
    "movies_comb['production_companies2'] = movies_comb['production_companies'].apply(lambda x: get_elements(x, 'name'))\n",
    "movies_comb['production_countries2'] = movies_comb['production_countries'].apply(lambda x: get_elements(x, 'name'))\n",
    "movies_comb['spoken_languages2'] = movies_comb['spoken_languages'].apply(lambda x: get_elements(x, 'iso_639_1'))\n",
    "movies_comb['cast2'] = movies_comb['cast'].apply(lambda x: get_elements(x, 'name'))\n",
    "movies_comb['character2'] = movies_comb['cast'].apply(lambda x: get_elements(x, 'character'))\n",
    "movies_comb['crew2'] = movies_comb['crew'].apply(lambda x: get_elements(x, 'name'))\n",
    "movies_comb['genres2'] = movies_comb['genres'].apply(lambda x: get_elements(x, 'name'))\n",
    "\n",
    "# drop unncessary columns\n",
    "movies_comb.drop(['keywords', 'production_companies', 'production_countries', 'spoken_languages', \n",
    "                  'cast', 'crew', 'genres'], axis=1, inplace=True)"
   ]
  },
  {
   "cell_type": "markdown",
   "metadata": {},
   "source": [
    "### Text preprocessing"
   ]
  },
  {
   "cell_type": "code",
   "execution_count": 75,
   "metadata": {},
   "outputs": [],
   "source": [
    "import copy\n",
    "import nltk\n",
    "from nltk.corpus import stopwords\n",
    "from nltk.stem import WordNetLemmatizer\n",
    "import re"
   ]
  },
  {
   "cell_type": "code",
   "execution_count": 76,
   "metadata": {},
   "outputs": [],
   "source": [
    "class Preprocess:\n",
    "    def __init__(self, df):\n",
    "        self.df = df\n",
    "\n",
    "    def transform(self):\n",
    "        # tokenize overview & tagline\n",
    "        self.df['overview2'] = self.df['overview'].apply(lambda x: str(x).split())\n",
    "        self.df['tagline2'] = self.df['tagline'].apply(lambda x: str(x).split())\n",
    "        self.df['title2'] = self.df['title'].apply(lambda x: str(x).split())\n",
    "\n",
    "        # concatenate overview, keywords2, production_companies2, production_countries2, spoken_languages2, cast2, crew2, character2, genres2, tagline\n",
    "        self.df['combined_tag'] = self.df['title2'] + self.df['overview2'] + self.df['keywords2'] + self.df['production_companies2'] + self.df['production_countries2'] + \\\n",
    "                                self.df['spoken_languages2'] + self.df['cast2'] + self.df['crew2'] + self.df['character2'] + self.df['genres2'] + self.df['tagline2']\n",
    "        \n",
    "        # preprocess\n",
    "        self.df['combined_tag'] = self.df['combined_tag'].apply(lambda x: self.inlist_removespace(x))\n",
    "        self.df['combined_tag'] = self.df['combined_tag'].apply(lambda x: self.inlist_strip_lower(x))\n",
    "        self.df['combined_tag'] = self.df['combined_tag'].apply(lambda x: self.inlist_remove_punctuation_marks(x))\n",
    "        stop_words = set(stopwords.words('english'))\n",
    "        self.df['combined_tag'] = self.df['combined_tag'].apply(lambda x: self.inlist_remove_stop_words(x, stop_words))\n",
    "        \n",
    "        # convert to text from tokens\n",
    "        self.df['text'] = self.df['combined_tag'].apply(lambda x: ' '.join(word for word in x))\n",
    "\n",
    "        # drop unncessary columns\n",
    "        self.df.drop(['overview', 'overview2', 'title2', 'keywords2', 'production_companies2', 'production_countries2', 'spoken_languages2', 'cast2', 'crew2', 'character2', \n",
    "                  'genres2', 'tagline', 'tagline2', 'original_title'], axis=1, inplace=True)\n",
    "\n",
    "        return self.df    \n",
    "\n",
    "    # remove space between words in a token\n",
    "    def inlist_removespace(self, x):\n",
    "        return [str(t).replace(\" \", \"\") for t in x]\n",
    "    \n",
    "    # strip and lower everything\n",
    "    def inlist_strip_lower(self, x):\n",
    "        return [str(t).strip().lower() for t in x]\n",
    "    \n",
    "    # get rid of punctuation marks\n",
    "    def inlist_remove_punctuation_marks(self, x):\n",
    "        return [re.sub(r'[^\\w\\s]', '', t) for t in x]\n",
    "    \n",
    "    # remove stop words\n",
    "    def inlist_remove_stop_words(self, x, stop_words):\n",
    "        return [t for t in x if t not in stop_words]"
   ]
  },
  {
   "cell_type": "code",
   "execution_count": 77,
   "metadata": {},
   "outputs": [],
   "source": [
    "movies_comb = Preprocess(movies_comb).transform()"
   ]
  },
  {
   "cell_type": "code",
   "execution_count": 79,
   "metadata": {},
   "outputs": [
    {
     "name": "stdout",
     "output_type": "stream",
     "text": [
      "(4809, 10)\n"
     ]
    },
    {
     "data": {
      "text/html": [
       "<div>\n",
       "<style scoped>\n",
       "    .dataframe tbody tr th:only-of-type {\n",
       "        vertical-align: middle;\n",
       "    }\n",
       "\n",
       "    .dataframe tbody tr th {\n",
       "        vertical-align: top;\n",
       "    }\n",
       "\n",
       "    .dataframe thead th {\n",
       "        text-align: right;\n",
       "    }\n",
       "</style>\n",
       "<table border=\"1\" class=\"dataframe\">\n",
       "  <thead>\n",
       "    <tr style=\"text-align: right;\">\n",
       "      <th></th>\n",
       "      <th>id</th>\n",
       "      <th>popularity</th>\n",
       "      <th>runtime</th>\n",
       "      <th>title</th>\n",
       "      <th>vote_average</th>\n",
       "      <th>vote_count</th>\n",
       "      <th>movie_id</th>\n",
       "      <th>release_year</th>\n",
       "      <th>combined_tag</th>\n",
       "      <th>text</th>\n",
       "    </tr>\n",
       "  </thead>\n",
       "  <tbody>\n",
       "    <tr>\n",
       "      <th>0</th>\n",
       "      <td>19995</td>\n",
       "      <td>150.437577</td>\n",
       "      <td>162.0</td>\n",
       "      <td>avatar</td>\n",
       "      <td>7.2</td>\n",
       "      <td>11800</td>\n",
       "      <td>19995</td>\n",
       "      <td>2009.0</td>\n",
       "      <td>[avatar, 22nd, century, paraplegic, marine, di...</td>\n",
       "      <td>avatar 22nd century paraplegic marine dispatch...</td>\n",
       "    </tr>\n",
       "    <tr>\n",
       "      <th>1</th>\n",
       "      <td>285</td>\n",
       "      <td>139.082615</td>\n",
       "      <td>169.0</td>\n",
       "      <td>pirates of the caribbean: at world's end</td>\n",
       "      <td>6.9</td>\n",
       "      <td>4500</td>\n",
       "      <td>285</td>\n",
       "      <td>2007.0</td>\n",
       "      <td>[pirates, caribbean, worlds, end, captain, bar...</td>\n",
       "      <td>pirates caribbean worlds end captain barbossa ...</td>\n",
       "    </tr>\n",
       "    <tr>\n",
       "      <th>2</th>\n",
       "      <td>206647</td>\n",
       "      <td>107.376788</td>\n",
       "      <td>148.0</td>\n",
       "      <td>spectre</td>\n",
       "      <td>6.3</td>\n",
       "      <td>4466</td>\n",
       "      <td>206647</td>\n",
       "      <td>2015.0</td>\n",
       "      <td>[spectre, cryptic, message, bonds, past, sends...</td>\n",
       "      <td>spectre cryptic message bonds past sends trail...</td>\n",
       "    </tr>\n",
       "    <tr>\n",
       "      <th>3</th>\n",
       "      <td>49026</td>\n",
       "      <td>112.312950</td>\n",
       "      <td>165.0</td>\n",
       "      <td>the dark knight rises</td>\n",
       "      <td>7.6</td>\n",
       "      <td>9106</td>\n",
       "      <td>49026</td>\n",
       "      <td>2012.0</td>\n",
       "      <td>[dark, knight, rises, following, death, distri...</td>\n",
       "      <td>dark knight rises following death district att...</td>\n",
       "    </tr>\n",
       "    <tr>\n",
       "      <th>4</th>\n",
       "      <td>49529</td>\n",
       "      <td>43.926995</td>\n",
       "      <td>132.0</td>\n",
       "      <td>john carter</td>\n",
       "      <td>6.1</td>\n",
       "      <td>2124</td>\n",
       "      <td>49529</td>\n",
       "      <td>2012.0</td>\n",
       "      <td>[john, carter, john, carter, warweary, former,...</td>\n",
       "      <td>john carter john carter warweary former milita...</td>\n",
       "    </tr>\n",
       "    <tr>\n",
       "      <th>5</th>\n",
       "      <td>559</td>\n",
       "      <td>115.699814</td>\n",
       "      <td>139.0</td>\n",
       "      <td>spider-man 3</td>\n",
       "      <td>5.9</td>\n",
       "      <td>3576</td>\n",
       "      <td>559</td>\n",
       "      <td>2007.0</td>\n",
       "      <td>[spiderman, 3, seemingly, invincible, spiderma...</td>\n",
       "      <td>spiderman 3 seemingly invincible spiderman goe...</td>\n",
       "    </tr>\n",
       "    <tr>\n",
       "      <th>6</th>\n",
       "      <td>38757</td>\n",
       "      <td>48.681969</td>\n",
       "      <td>100.0</td>\n",
       "      <td>tangled</td>\n",
       "      <td>7.4</td>\n",
       "      <td>3330</td>\n",
       "      <td>38757</td>\n",
       "      <td>2010.0</td>\n",
       "      <td>[tangled, kingdoms, wantedand, charmingbandit,...</td>\n",
       "      <td>tangled kingdoms wantedand charmingbandit flyn...</td>\n",
       "    </tr>\n",
       "    <tr>\n",
       "      <th>7</th>\n",
       "      <td>99861</td>\n",
       "      <td>134.279229</td>\n",
       "      <td>141.0</td>\n",
       "      <td>avengers: age of ultron</td>\n",
       "      <td>7.3</td>\n",
       "      <td>6767</td>\n",
       "      <td>99861</td>\n",
       "      <td>2015.0</td>\n",
       "      <td>[avengers, age, ultron, tony, stark, tries, ju...</td>\n",
       "      <td>avengers age ultron tony stark tries jumpstart...</td>\n",
       "    </tr>\n",
       "    <tr>\n",
       "      <th>8</th>\n",
       "      <td>767</td>\n",
       "      <td>98.885637</td>\n",
       "      <td>153.0</td>\n",
       "      <td>harry potter and the half-blood prince</td>\n",
       "      <td>7.4</td>\n",
       "      <td>5293</td>\n",
       "      <td>767</td>\n",
       "      <td>2009.0</td>\n",
       "      <td>[harry, potter, halfblood, prince, harry, begi...</td>\n",
       "      <td>harry potter halfblood prince harry begins six...</td>\n",
       "    </tr>\n",
       "    <tr>\n",
       "      <th>9</th>\n",
       "      <td>209112</td>\n",
       "      <td>155.790452</td>\n",
       "      <td>151.0</td>\n",
       "      <td>batman v superman: dawn of justice</td>\n",
       "      <td>5.7</td>\n",
       "      <td>7004</td>\n",
       "      <td>209112</td>\n",
       "      <td>2016.0</td>\n",
       "      <td>[batman, v, superman, dawn, justice, fearing, ...</td>\n",
       "      <td>batman v superman dawn justice fearing actions...</td>\n",
       "    </tr>\n",
       "  </tbody>\n",
       "</table>\n",
       "</div>"
      ],
      "text/plain": [
       "       id  popularity  runtime                                     title  \\\n",
       "0   19995  150.437577    162.0                                    avatar   \n",
       "1     285  139.082615    169.0  pirates of the caribbean: at world's end   \n",
       "2  206647  107.376788    148.0                                   spectre   \n",
       "3   49026  112.312950    165.0                     the dark knight rises   \n",
       "4   49529   43.926995    132.0                               john carter   \n",
       "5     559  115.699814    139.0                              spider-man 3   \n",
       "6   38757   48.681969    100.0                                   tangled   \n",
       "7   99861  134.279229    141.0                   avengers: age of ultron   \n",
       "8     767   98.885637    153.0    harry potter and the half-blood prince   \n",
       "9  209112  155.790452    151.0        batman v superman: dawn of justice   \n",
       "\n",
       "   vote_average  vote_count  movie_id  release_year  \\\n",
       "0           7.2       11800     19995        2009.0   \n",
       "1           6.9        4500       285        2007.0   \n",
       "2           6.3        4466    206647        2015.0   \n",
       "3           7.6        9106     49026        2012.0   \n",
       "4           6.1        2124     49529        2012.0   \n",
       "5           5.9        3576       559        2007.0   \n",
       "6           7.4        3330     38757        2010.0   \n",
       "7           7.3        6767     99861        2015.0   \n",
       "8           7.4        5293       767        2009.0   \n",
       "9           5.7        7004    209112        2016.0   \n",
       "\n",
       "                                        combined_tag  \\\n",
       "0  [avatar, 22nd, century, paraplegic, marine, di...   \n",
       "1  [pirates, caribbean, worlds, end, captain, bar...   \n",
       "2  [spectre, cryptic, message, bonds, past, sends...   \n",
       "3  [dark, knight, rises, following, death, distri...   \n",
       "4  [john, carter, john, carter, warweary, former,...   \n",
       "5  [spiderman, 3, seemingly, invincible, spiderma...   \n",
       "6  [tangled, kingdoms, wantedand, charmingbandit,...   \n",
       "7  [avengers, age, ultron, tony, stark, tries, ju...   \n",
       "8  [harry, potter, halfblood, prince, harry, begi...   \n",
       "9  [batman, v, superman, dawn, justice, fearing, ...   \n",
       "\n",
       "                                                text  \n",
       "0  avatar 22nd century paraplegic marine dispatch...  \n",
       "1  pirates caribbean worlds end captain barbossa ...  \n",
       "2  spectre cryptic message bonds past sends trail...  \n",
       "3  dark knight rises following death district att...  \n",
       "4  john carter john carter warweary former milita...  \n",
       "5  spiderman 3 seemingly invincible spiderman goe...  \n",
       "6  tangled kingdoms wantedand charmingbandit flyn...  \n",
       "7  avengers age ultron tony stark tries jumpstart...  \n",
       "8  harry potter halfblood prince harry begins six...  \n",
       "9  batman v superman dawn justice fearing actions...  "
      ]
     },
     "execution_count": 79,
     "metadata": {},
     "output_type": "execute_result"
    }
   ],
   "source": [
    "print(movies_comb.shape)\n",
    "movies_comb.head(10)"
   ]
  },
  {
   "cell_type": "markdown",
   "metadata": {},
   "source": [
    "## TF-IDF Vectorization"
   ]
  },
  {
   "cell_type": "code",
   "execution_count": 80,
   "metadata": {},
   "outputs": [],
   "source": [
    "from sklearn.feature_extraction.text import TfidfVectorizer\n",
    "from sklearn.decomposition import TruncatedSVD\n",
    "from sklearn.metrics.pairwise import cosine_similarity"
   ]
  },
  {
   "cell_type": "code",
   "execution_count": 81,
   "metadata": {},
   "outputs": [
    {
     "name": "stdout",
     "output_type": "stream",
     "text": [
      "(4809, 18570)\n",
      "(4809, 500)\n",
      "(4809, 4809)\n"
     ]
    }
   ],
   "source": [
    "# generate embeddings\n",
    "vectorizer = TfidfVectorizer(min_df=5, max_df=0.8) # Ignore words appearing in <5 movies and those appearing in >80% of movies\n",
    "tfidf_matrix = vectorizer.fit_transform(movies_comb['text'])\n",
    "\n",
    "# Dimensionality Reduction using SVD\n",
    "svd = TruncatedSVD(n_components=500)\n",
    "tfidf_reduced = svd.fit_transform(tfidf_matrix)\n",
    "print(tfidf_matrix.shape)\n",
    "print(tfidf_reduced.shape)\n",
    "\n",
    "# Compute Cosine Similarity\n",
    "cosine_sim = cosine_similarity(tfidf_reduced)\n",
    "print(cosine_sim.shape)"
   ]
  },
  {
   "cell_type": "markdown",
   "metadata": {},
   "source": [
    "## Recommender System"
   ]
  },
  {
   "cell_type": "code",
   "execution_count": 82,
   "metadata": {},
   "outputs": [
    {
     "name": "stdout",
     "output_type": "stream",
     "text": [
      "['iron man 2', 'the amazing spider-man 2', 'the amazing spider-man', 'spider-man 3', 'spider-man', 'hulk', 'ant-man', 'spider-man 2']\n",
      "['love jones', 'the sleepwalker', 'revolutionary road', 'the out-of-towners', 'boynton beach club']\n",
      "['the lunchbox', 'american desi', 'earth', 'veer-zaara', 'lage raho munna bhai']\n",
      "['men in black', 'the day the earth stood still', 'timecrimes', 'the black hole', 'what planet are you from?', 'men in black ii', 'the tuxedo', 'e.t. the extra-terrestrial', 'impostor', 'the time machine', 'men in black 3']\n",
      "['the chronicles of narnia: the voyage of the dawn treader', 'the wizard of oz', 'return to never land', 'cirque du soleil: worlds away', 'shrek 2', 'shrek', 'the chronicles of narnia: the lion, the witch and the wardrobe', 'the chronicles of narnia: prince caspian', 'return to the blue lagoon']\n",
      "['the avengers', 'captain america: the first avenger', 'guardians of the galaxy', 'iron man 2', 'iron man 3', 'avengers: age of ultron', 'thor: the dark world', 'thor']\n"
     ]
    }
   ],
   "source": [
    "# Movie Recommendation Function\n",
    "def recommend_movies(df, movie_title, num_recommendations=5):\n",
    "    # Find movies that match the given title (partial match support)\n",
    "    matching_movies = df[df['title'].str.contains(movie_title, case=False, na=False)]\n",
    "    \n",
    "    if matching_movies.empty:\n",
    "        return \"Movie not found!\"\n",
    "    \n",
    "    recommendations = []\n",
    "    for idx in matching_movies.index:\n",
    "        similarity_scores = list(enumerate(cosine_sim[idx]))\n",
    "        similarity_scores = sorted(similarity_scores, key=lambda x: x[1], reverse=True)\n",
    "        top_movies = [df.iloc[i[0]]['title'] for i in similarity_scores[1:num_recommendations+1]]\n",
    "        recommendations.extend(top_movies)\n",
    "    \n",
    "    return list(set(recommendations))  # Remove duplicates\n",
    "\n",
    "# Example usage\n",
    "print(recommend_movies(movies_comb, 'spider-man', 5))\n",
    "print(recommend_movies(movies_comb, 'breaking upwards', 5))\n",
    "print(recommend_movies(movies_comb, 'yeh jawaani hai deewani', 5))\n",
    "print(recommend_movies(movies_comb, 'men in black', 5))\n",
    "print(recommend_movies(movies_comb, 'narnia', 5))\n",
    "print(recommend_movies(movies_comb, 'avengers', 5))"
   ]
  },
  {
   "cell_type": "code",
   "execution_count": 85,
   "metadata": {},
   "outputs": [],
   "source": [
    "# store the dataset and the embeddings\n",
    "import pickle\n",
    "\n",
    "pickle.dump(movies_comb, open('../artifacts/movies_list.pkl', 'wb'))\n",
    "pickle.dump(cosine_sim, open('../artifacts/movies_similarity.pkl', 'wb'))"
   ]
  },
  {
   "cell_type": "code",
   "execution_count": 86,
   "metadata": {},
   "outputs": [
    {
     "name": "stdout",
     "output_type": "stream",
     "text": [
      "2.2.3\n"
     ]
    }
   ],
   "source": [
    "import pandas as pd\n",
    "print(pd.__version__)"
   ]
  },
  {
   "cell_type": "code",
   "execution_count": 87,
   "metadata": {},
   "outputs": [
    {
     "name": "stdout",
     "output_type": "stream",
     "text": [
      "pandas==2.2.3\n"
     ]
    }
   ],
   "source": [
    "!pip freeze | grep pandas"
   ]
  },
  {
   "cell_type": "code",
   "execution_count": 88,
   "metadata": {},
   "outputs": [],
   "source": [
    "import joblib\n",
    "import pickle\n",
    "import streamlit as st\n",
    "import requests\n",
    "import os\n",
    "import pandas as pd\n",
    "import numpy as np"
   ]
  },
  {
   "cell_type": "code",
   "execution_count": 95,
   "metadata": {},
   "outputs": [],
   "source": [
    "def fetch_poster(movie_id):\n",
    "    base_url = \"https://image.tmdb.org/t/p/original\"\n",
    "    api_key = \"94b22dc37c19aa244c8e511128fce6cf\"\n",
    "    response = requests.get(f\"https://api.themoviedb.org/3/movie/{movie_id}?api_key={api_key}\")\n",
    "    data = response.json()\n",
    "    print(data)\n",
    "    poster_path = data['poster_path']\n",
    "    poster_url = base_url + poster_path\n",
    "    return poster_url"
   ]
  },
  {
   "cell_type": "code",
   "execution_count": 98,
   "metadata": {},
   "outputs": [
    {
     "name": "stdout",
     "output_type": "stream",
     "text": [
      "{'adult': False, 'backdrop_path': '/y2DB71C4nyIdMrANijz8mzvQtk6.jpg', 'belongs_to_collection': {'id': 263, 'name': 'The Dark Knight Collection', 'poster_path': '/ogyw5LTmL53dVxsppcy8Dlm30Fu.jpg', 'backdrop_path': '/xyhrCEdB4XRkelfVsqXeUZ6rLHi.jpg'}, 'budget': 250000000, 'genres': [{'id': 28, 'name': 'Action'}, {'id': 80, 'name': 'Crime'}, {'id': 18, 'name': 'Drama'}, {'id': 53, 'name': 'Thriller'}], 'homepage': 'http://www.thedarkknightrises.com/', 'id': 49026, 'imdb_id': 'tt1345836', 'origin_country': ['GB', 'US'], 'original_language': 'en', 'original_title': 'The Dark Knight Rises', 'overview': \"Following the death of District Attorney Harvey Dent, Batman assumes responsibility for Dent's crimes to protect the late attorney's reputation and is subsequently hunted by the Gotham City Police Department. Eight years later, Batman encounters the mysterious Selina Kyle and the villainous Bane, a new terrorist leader who overwhelms Gotham's finest. The Dark Knight resurfaces to protect a city that has branded him an enemy.\", 'popularity': 14.14, 'poster_path': '/hr0L2aueqlP2BYUblTTjmtn0hw4.jpg', 'production_companies': [{'id': 9996, 'logo_path': '/3tvBqYsBhxWeHlu62SIJ1el93O7.png', 'name': 'Syncopy', 'origin_country': 'GB'}, {'id': 923, 'logo_path': '/5UQsZrfbfG2dYJbx8DxfoTr2Bvu.png', 'name': 'Legendary Pictures', 'origin_country': 'US'}, {'id': 9993, 'logo_path': '/2Tc1P3Ac8M479naPp1kYT3izLS5.png', 'name': 'DC Entertainment', 'origin_country': 'US'}, {'id': 174, 'logo_path': '/zhD3hhtKB5qyv7ZeL4uLpNxgMVU.png', 'name': 'Warner Bros. Pictures', 'origin_country': 'US'}], 'production_countries': [{'iso_3166_1': 'GB', 'name': 'United Kingdom'}, {'iso_3166_1': 'US', 'name': 'United States of America'}], 'release_date': '2012-07-17', 'revenue': 1081041287, 'runtime': 165, 'spoken_languages': [{'english_name': 'English', 'iso_639_1': 'en', 'name': 'English'}], 'status': 'Released', 'tagline': 'A fire will rise.', 'title': 'The Dark Knight Rises', 'video': False, 'vote_average': 7.8, 'vote_count': 22976}\n"
     ]
    },
    {
     "data": {
      "text/plain": [
       "'https://image.tmdb.org/t/p/original/hr0L2aueqlP2BYUblTTjmtn0hw4.jpg'"
      ]
     },
     "execution_count": 98,
     "metadata": {},
     "output_type": "execute_result"
    }
   ],
   "source": [
    "fetch_poster(movie_id=49026)"
   ]
  },
  {
   "cell_type": "code",
   "execution_count": null,
   "metadata": {},
   "outputs": [],
   "source": []
  }
 ],
 "metadata": {
  "kernelspec": {
   "display_name": ".venv",
   "language": "python",
   "name": "python3"
  },
  "language_info": {
   "codemirror_mode": {
    "name": "ipython",
    "version": 3
   },
   "file_extension": ".py",
   "mimetype": "text/x-python",
   "name": "python",
   "nbconvert_exporter": "python",
   "pygments_lexer": "ipython3",
   "version": "3.10.1"
  }
 },
 "nbformat": 4,
 "nbformat_minor": 2
}
